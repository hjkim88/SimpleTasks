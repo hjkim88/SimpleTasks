{
 "cells": [
  {
   "cell_type": "code",
   "execution_count": 1,
   "id": "a383354c-6425-4d59-a1bb-45080b3ae97b",
   "metadata": {
    "execution": {
     "iopub.execute_input": "2022-07-20T21:50:48.909593Z",
     "iopub.status.busy": "2022-07-20T21:50:48.907700Z",
     "iopub.status.idle": "2022-07-20T21:50:51.023674Z",
     "shell.execute_reply": "2022-07-20T21:50:51.022365Z"
    }
   },
   "outputs": [],
   "source": [
    "### load libraries\n",
    "if(!require(xlsx, quietly = TRUE)) {\n",
    "install.packages(\"xlsx\")\n",
    "require(xlsx, quietly = TRUE)\n",
    "}\n",
    "\n",
    "meta_path=\"/home/hyunjin.kim2/SimpleTasks/data/PID5202/qcSummary_p5202e16639.xlsx\"\n",
    "outputDir=\"/home/hyunjin.kim2/SimpleTasks/data/PID5202/\"\n",
    "\n",
    "### load the data\n",
    "meta_data <- read.xlsx(file = meta_path,\n",
    "                       sheetIndex = 1,\n",
    "                       row.names = 1,\n",
    "                       stringsAsFactors = FALSE, check.names = FALSE)\n",
    "meta_data <- data.frame(t(meta_data),\n",
    "                        stringsAsFactors = FALSE, check.names = FALSE)"
   ]
  },
  {
   "cell_type": "code",
   "execution_count": 2,
   "id": "d00c367d-caaf-4935-bc53-51f8e78d8bb3",
   "metadata": {
    "execution": {
     "iopub.execute_input": "2022-07-20T21:50:59.321347Z",
     "iopub.status.busy": "2022-07-20T21:50:59.297785Z",
     "iopub.status.idle": "2022-07-20T21:50:59.336639Z",
     "shell.execute_reply": "2022-07-20T21:50:59.335503Z"
    }
   },
   "outputs": [
    {
     "data": {
      "text/html": [
       "<style>\n",
       ".list-inline {list-style: none; margin:0; padding: 0}\n",
       ".list-inline>li {display: inline-block}\n",
       ".list-inline>li:not(:last-child)::after {content: \"\\00b7\"; padding: 0 .5ex}\n",
       "</style>\n",
       "<ol class=list-inline><li>24</li><li>30</li></ol>\n"
      ],
      "text/latex": [
       "\\begin{enumerate*}\n",
       "\\item 24\n",
       "\\item 30\n",
       "\\end{enumerate*}\n"
      ],
      "text/markdown": [
       "1. 24\n",
       "2. 30\n",
       "\n",
       "\n"
      ],
      "text/plain": [
       "[1] 24 30"
      ]
     },
     "metadata": {},
     "output_type": "display_data"
    }
   ],
   "source": [
    "dim(meta_data)"
   ]
  },
  {
   "cell_type": "code",
   "execution_count": 3,
   "id": "52ded8c0-b433-44d9-8d2f-1c7936c6e35a",
   "metadata": {
    "execution": {
     "iopub.execute_input": "2022-07-20T21:51:05.910029Z",
     "iopub.status.busy": "2022-07-20T21:51:05.908873Z",
     "iopub.status.idle": "2022-07-20T21:51:05.936583Z",
     "shell.execute_reply": "2022-07-20T21:51:05.935395Z"
    }
   },
   "outputs": [
    {
     "data": {
      "text/html": [
       "<table class=\"dataframe\">\n",
       "<caption>A data.frame: 6 × 30</caption>\n",
       "<thead>\n",
       "\t<tr><th></th><th scope=col>Total Number of Reads</th><th scope=col>Mean Reads per Captured Cell</th><th scope=col>Percentage of Reads with Valid Cell Barcodes</th><th scope=col>Percentage of Total Reads in Captured Cells among Total Reads</th><th scope=col>Percentage of Exon Reads among Total Reads</th><th scope=col>Percentage of Intron Reads among Total Reads</th><th scope=col>Percentage of Intergenic Reads among Total Reads</th><th scope=col>Number of Input Cells</th><th scope=col>Number of Captured Cells</th><th scope=col>Percentage of Exon Reads in Captured Cells among Total Reads</th><th scope=col>⋯</th><th scope=col>tissue</th><th scope=col>tissue_detail</th><th scope=col>Other Sample Details</th><th scope=col>Cell Type</th><th scope=col>pid</th><th scope=col>pname</th><th scope=col>10X Library Prep #</th><th scope=col>Library Prep Protocol Used</th><th scope=col>EID</th><th scope=col>path to the results</th></tr>\n",
       "\t<tr><th></th><th scope=col>&lt;chr&gt;</th><th scope=col>&lt;chr&gt;</th><th scope=col>&lt;chr&gt;</th><th scope=col>&lt;chr&gt;</th><th scope=col>&lt;chr&gt;</th><th scope=col>&lt;chr&gt;</th><th scope=col>&lt;chr&gt;</th><th scope=col>&lt;chr&gt;</th><th scope=col>&lt;chr&gt;</th><th scope=col>&lt;chr&gt;</th><th scope=col>⋯</th><th scope=col>&lt;chr&gt;</th><th scope=col>&lt;chr&gt;</th><th scope=col>&lt;chr&gt;</th><th scope=col>&lt;chr&gt;</th><th scope=col>&lt;chr&gt;</th><th scope=col>&lt;chr&gt;</th><th scope=col>&lt;chr&gt;</th><th scope=col>&lt;chr&gt;</th><th scope=col>&lt;chr&gt;</th><th scope=col>&lt;chr&gt;</th></tr>\n",
       "</thead>\n",
       "<tbody>\n",
       "\t<tr><th scope=row>1509722_1_1_1-HVJYFDSX2-HVKMFDSX2</th><td>621755922 </td><td>108813</td><td>0.915</td><td>0.944</td><td>0.521</td><td>0.068</td><td>0.044</td><td>10000</td><td>5714</td><td>0.45  </td><td>⋯</td><td>peritoneal cavity</td><td>M24_M483_2hr_LPS Stim </td><td>test</td><td>peritoneal cells</td><td>5202</td><td>scRNAseq in Peritoneal Cells treated with ncADCs in LPS-induced model</td><td>496</td><td>10X 5prime NextGEM v2.0</td><td>16639</td><td>/10x-results/W401102/Project0005000/PID5202/1509722_1_1_1-HVJYFDSX2-HVKMFDSX2</td></tr>\n",
       "\t<tr><th scope=row>1509721_1_1_1-HVJYFDSX2-HVKMFDSX2</th><td>1242558362</td><td>216285</td><td>0.931</td><td>0.882</td><td>0.304</td><td>0.05 </td><td>0.025</td><td>10000</td><td>5745</td><td>0.2496</td><td>⋯</td><td>peritoneal cavity</td><td>M23_M483_2hr_LPS Stim </td><td>test</td><td>peritoneal cells</td><td>5202</td><td>scRNAseq in Peritoneal Cells treated with ncADCs in LPS-induced model</td><td>496</td><td>10X 5prime NextGEM v2.0</td><td>16639</td><td>/10x-results/W401102/Project0005000/PID5202/1509721_1_1_1-HVJYFDSX2-HVKMFDSX2</td></tr>\n",
       "\t<tr><th scope=row>1509720_1_1_1-HVJYFDSX2-HVKMFDSX2</th><td>838229060 </td><td>154569</td><td>0.912</td><td>0.937</td><td>0.452</td><td>0.066</td><td>0.039</td><td>10000</td><td>5423</td><td>0.3863</td><td>⋯</td><td>peritoneal cavity</td><td>M22_M483_2hr_LPS Stim </td><td>test</td><td>peritoneal cells</td><td>5202</td><td>scRNAseq in Peritoneal Cells treated with ncADCs in LPS-induced model</td><td>496</td><td>10X 5prime NextGEM v2.0</td><td>16639</td><td>/10x-results/W401102/Project0005000/PID5202/1509720_1_1_1-HVJYFDSX2-HVKMFDSX2</td></tr>\n",
       "\t<tr><th scope=row>1509719_1_1_1-HVJYFDSX2-HVKMFDSX2</th><td>678662141 </td><td>96073 </td><td>0.918</td><td>0.945</td><td>0.514</td><td>0.065</td><td>0.04 </td><td>10000</td><td>7064</td><td>0.4459</td><td>⋯</td><td>peritoneal cavity</td><td>M21_M483_2hr_LPS Stim </td><td>test</td><td>peritoneal cells</td><td>5202</td><td>scRNAseq in Peritoneal Cells treated with ncADCs in LPS-induced model</td><td>496</td><td>10X 5prime NextGEM v2.0</td><td>16639</td><td>/10x-results/W401102/Project0005000/PID5202/1509719_1_1_1-HVJYFDSX2-HVKMFDSX2</td></tr>\n",
       "\t<tr><th scope=row>1509718_1_1_1-HVJYFDSX2-HVKMFDSX2</th><td>902974698 </td><td>162727</td><td>0.938</td><td>0.858</td><td>0.377</td><td>0.054</td><td>0.027</td><td>10000</td><td>5549</td><td>0.3034</td><td>⋯</td><td>peritoneal cavity</td><td>M20_M483_24hr_LPS Stim</td><td>test</td><td>peritoneal cells</td><td>5202</td><td>scRNAseq in Peritoneal Cells treated with ncADCs in LPS-induced model</td><td>496</td><td>10X 5prime NextGEM v2.0</td><td>16639</td><td>/10x-results/W401102/Project0005000/PID5202/1509718_1_1_1-HVJYFDSX2-HVKMFDSX2</td></tr>\n",
       "\t<tr><th scope=row>1509717_1_1_1-HVJYFDSX2-HVKMFDSX2</th><td>727980965 </td><td>145074</td><td>0.915</td><td>0.954</td><td>0.519</td><td>0.059</td><td>0.038</td><td>10000</td><td>5018</td><td>0.453 </td><td>⋯</td><td>peritoneal cavity</td><td>M19_M483_24hr_LPS Stim</td><td>test</td><td>peritoneal cells</td><td>5202</td><td>scRNAseq in Peritoneal Cells treated with ncADCs in LPS-induced model</td><td>496</td><td>10X 5prime NextGEM v2.0</td><td>16639</td><td>/10x-results/W401102/Project0005000/PID5202/1509717_1_1_1-HVJYFDSX2-HVKMFDSX2</td></tr>\n",
       "</tbody>\n",
       "</table>\n"
      ],
      "text/latex": [
       "A data.frame: 6 × 30\n",
       "\\begin{tabular}{r|lllllllllllllllllllll}\n",
       "  & Total Number of Reads & Mean Reads per Captured Cell & Percentage of Reads with Valid Cell Barcodes & Percentage of Total Reads in Captured Cells among Total Reads & Percentage of Exon Reads among Total Reads & Percentage of Intron Reads among Total Reads & Percentage of Intergenic Reads among Total Reads & Number of Input Cells & Number of Captured Cells & Percentage of Exon Reads in Captured Cells among Total Reads & ⋯ & tissue & tissue\\_detail & Other Sample Details & Cell Type & pid & pname & 10X Library Prep \\# & Library Prep Protocol Used & EID & path to the results\\\\\n",
       "  & <chr> & <chr> & <chr> & <chr> & <chr> & <chr> & <chr> & <chr> & <chr> & <chr> & ⋯ & <chr> & <chr> & <chr> & <chr> & <chr> & <chr> & <chr> & <chr> & <chr> & <chr>\\\\\n",
       "\\hline\n",
       "\t1509722\\_1\\_1\\_1-HVJYFDSX2-HVKMFDSX2 & 621755922  & 108813 & 0.915 & 0.944 & 0.521 & 0.068 & 0.044 & 10000 & 5714 & 0.45   & ⋯ & peritoneal cavity & M24\\_M483\\_2hr\\_LPS Stim  & test & peritoneal cells & 5202 & scRNAseq in Peritoneal Cells treated with ncADCs in LPS-induced model & 496 & 10X 5prime NextGEM v2.0 & 16639 & /10x-results/W401102/Project0005000/PID5202/1509722\\_1\\_1\\_1-HVJYFDSX2-HVKMFDSX2\\\\\n",
       "\t1509721\\_1\\_1\\_1-HVJYFDSX2-HVKMFDSX2 & 1242558362 & 216285 & 0.931 & 0.882 & 0.304 & 0.05  & 0.025 & 10000 & 5745 & 0.2496 & ⋯ & peritoneal cavity & M23\\_M483\\_2hr\\_LPS Stim  & test & peritoneal cells & 5202 & scRNAseq in Peritoneal Cells treated with ncADCs in LPS-induced model & 496 & 10X 5prime NextGEM v2.0 & 16639 & /10x-results/W401102/Project0005000/PID5202/1509721\\_1\\_1\\_1-HVJYFDSX2-HVKMFDSX2\\\\\n",
       "\t1509720\\_1\\_1\\_1-HVJYFDSX2-HVKMFDSX2 & 838229060  & 154569 & 0.912 & 0.937 & 0.452 & 0.066 & 0.039 & 10000 & 5423 & 0.3863 & ⋯ & peritoneal cavity & M22\\_M483\\_2hr\\_LPS Stim  & test & peritoneal cells & 5202 & scRNAseq in Peritoneal Cells treated with ncADCs in LPS-induced model & 496 & 10X 5prime NextGEM v2.0 & 16639 & /10x-results/W401102/Project0005000/PID5202/1509720\\_1\\_1\\_1-HVJYFDSX2-HVKMFDSX2\\\\\n",
       "\t1509719\\_1\\_1\\_1-HVJYFDSX2-HVKMFDSX2 & 678662141  & 96073  & 0.918 & 0.945 & 0.514 & 0.065 & 0.04  & 10000 & 7064 & 0.4459 & ⋯ & peritoneal cavity & M21\\_M483\\_2hr\\_LPS Stim  & test & peritoneal cells & 5202 & scRNAseq in Peritoneal Cells treated with ncADCs in LPS-induced model & 496 & 10X 5prime NextGEM v2.0 & 16639 & /10x-results/W401102/Project0005000/PID5202/1509719\\_1\\_1\\_1-HVJYFDSX2-HVKMFDSX2\\\\\n",
       "\t1509718\\_1\\_1\\_1-HVJYFDSX2-HVKMFDSX2 & 902974698  & 162727 & 0.938 & 0.858 & 0.377 & 0.054 & 0.027 & 10000 & 5549 & 0.3034 & ⋯ & peritoneal cavity & M20\\_M483\\_24hr\\_LPS Stim & test & peritoneal cells & 5202 & scRNAseq in Peritoneal Cells treated with ncADCs in LPS-induced model & 496 & 10X 5prime NextGEM v2.0 & 16639 & /10x-results/W401102/Project0005000/PID5202/1509718\\_1\\_1\\_1-HVJYFDSX2-HVKMFDSX2\\\\\n",
       "\t1509717\\_1\\_1\\_1-HVJYFDSX2-HVKMFDSX2 & 727980965  & 145074 & 0.915 & 0.954 & 0.519 & 0.059 & 0.038 & 10000 & 5018 & 0.453  & ⋯ & peritoneal cavity & M19\\_M483\\_24hr\\_LPS Stim & test & peritoneal cells & 5202 & scRNAseq in Peritoneal Cells treated with ncADCs in LPS-induced model & 496 & 10X 5prime NextGEM v2.0 & 16639 & /10x-results/W401102/Project0005000/PID5202/1509717\\_1\\_1\\_1-HVJYFDSX2-HVKMFDSX2\\\\\n",
       "\\end{tabular}\n"
      ],
      "text/markdown": [
       "\n",
       "A data.frame: 6 × 30\n",
       "\n",
       "| <!--/--> | Total Number of Reads &lt;chr&gt; | Mean Reads per Captured Cell &lt;chr&gt; | Percentage of Reads with Valid Cell Barcodes &lt;chr&gt; | Percentage of Total Reads in Captured Cells among Total Reads &lt;chr&gt; | Percentage of Exon Reads among Total Reads &lt;chr&gt; | Percentage of Intron Reads among Total Reads &lt;chr&gt; | Percentage of Intergenic Reads among Total Reads &lt;chr&gt; | Number of Input Cells &lt;chr&gt; | Number of Captured Cells &lt;chr&gt; | Percentage of Exon Reads in Captured Cells among Total Reads &lt;chr&gt; | ⋯ ⋯ | tissue &lt;chr&gt; | tissue_detail &lt;chr&gt; | Other Sample Details &lt;chr&gt; | Cell Type &lt;chr&gt; | pid &lt;chr&gt; | pname &lt;chr&gt; | 10X Library Prep # &lt;chr&gt; | Library Prep Protocol Used &lt;chr&gt; | EID &lt;chr&gt; | path to the results &lt;chr&gt; |\n",
       "|---|---|---|---|---|---|---|---|---|---|---|---|---|---|---|---|---|---|---|---|---|---|\n",
       "| 1509722_1_1_1-HVJYFDSX2-HVKMFDSX2 | 621755922  | 108813 | 0.915 | 0.944 | 0.521 | 0.068 | 0.044 | 10000 | 5714 | 0.45   | ⋯ | peritoneal cavity | M24_M483_2hr_LPS Stim  | test | peritoneal cells | 5202 | scRNAseq in Peritoneal Cells treated with ncADCs in LPS-induced model | 496 | 10X 5prime NextGEM v2.0 | 16639 | /10x-results/W401102/Project0005000/PID5202/1509722_1_1_1-HVJYFDSX2-HVKMFDSX2 |\n",
       "| 1509721_1_1_1-HVJYFDSX2-HVKMFDSX2 | 1242558362 | 216285 | 0.931 | 0.882 | 0.304 | 0.05  | 0.025 | 10000 | 5745 | 0.2496 | ⋯ | peritoneal cavity | M23_M483_2hr_LPS Stim  | test | peritoneal cells | 5202 | scRNAseq in Peritoneal Cells treated with ncADCs in LPS-induced model | 496 | 10X 5prime NextGEM v2.0 | 16639 | /10x-results/W401102/Project0005000/PID5202/1509721_1_1_1-HVJYFDSX2-HVKMFDSX2 |\n",
       "| 1509720_1_1_1-HVJYFDSX2-HVKMFDSX2 | 838229060  | 154569 | 0.912 | 0.937 | 0.452 | 0.066 | 0.039 | 10000 | 5423 | 0.3863 | ⋯ | peritoneal cavity | M22_M483_2hr_LPS Stim  | test | peritoneal cells | 5202 | scRNAseq in Peritoneal Cells treated with ncADCs in LPS-induced model | 496 | 10X 5prime NextGEM v2.0 | 16639 | /10x-results/W401102/Project0005000/PID5202/1509720_1_1_1-HVJYFDSX2-HVKMFDSX2 |\n",
       "| 1509719_1_1_1-HVJYFDSX2-HVKMFDSX2 | 678662141  | 96073  | 0.918 | 0.945 | 0.514 | 0.065 | 0.04  | 10000 | 7064 | 0.4459 | ⋯ | peritoneal cavity | M21_M483_2hr_LPS Stim  | test | peritoneal cells | 5202 | scRNAseq in Peritoneal Cells treated with ncADCs in LPS-induced model | 496 | 10X 5prime NextGEM v2.0 | 16639 | /10x-results/W401102/Project0005000/PID5202/1509719_1_1_1-HVJYFDSX2-HVKMFDSX2 |\n",
       "| 1509718_1_1_1-HVJYFDSX2-HVKMFDSX2 | 902974698  | 162727 | 0.938 | 0.858 | 0.377 | 0.054 | 0.027 | 10000 | 5549 | 0.3034 | ⋯ | peritoneal cavity | M20_M483_24hr_LPS Stim | test | peritoneal cells | 5202 | scRNAseq in Peritoneal Cells treated with ncADCs in LPS-induced model | 496 | 10X 5prime NextGEM v2.0 | 16639 | /10x-results/W401102/Project0005000/PID5202/1509718_1_1_1-HVJYFDSX2-HVKMFDSX2 |\n",
       "| 1509717_1_1_1-HVJYFDSX2-HVKMFDSX2 | 727980965  | 145074 | 0.915 | 0.954 | 0.519 | 0.059 | 0.038 | 10000 | 5018 | 0.453  | ⋯ | peritoneal cavity | M19_M483_24hr_LPS Stim | test | peritoneal cells | 5202 | scRNAseq in Peritoneal Cells treated with ncADCs in LPS-induced model | 496 | 10X 5prime NextGEM v2.0 | 16639 | /10x-results/W401102/Project0005000/PID5202/1509717_1_1_1-HVJYFDSX2-HVKMFDSX2 |\n",
       "\n"
      ],
      "text/plain": [
       "                                  Total Number of Reads\n",
       "1509722_1_1_1-HVJYFDSX2-HVKMFDSX2 621755922            \n",
       "1509721_1_1_1-HVJYFDSX2-HVKMFDSX2 1242558362           \n",
       "1509720_1_1_1-HVJYFDSX2-HVKMFDSX2 838229060            \n",
       "1509719_1_1_1-HVJYFDSX2-HVKMFDSX2 678662141            \n",
       "1509718_1_1_1-HVJYFDSX2-HVKMFDSX2 902974698            \n",
       "1509717_1_1_1-HVJYFDSX2-HVKMFDSX2 727980965            \n",
       "                                  Mean Reads per Captured Cell\n",
       "1509722_1_1_1-HVJYFDSX2-HVKMFDSX2 108813                      \n",
       "1509721_1_1_1-HVJYFDSX2-HVKMFDSX2 216285                      \n",
       "1509720_1_1_1-HVJYFDSX2-HVKMFDSX2 154569                      \n",
       "1509719_1_1_1-HVJYFDSX2-HVKMFDSX2 96073                       \n",
       "1509718_1_1_1-HVJYFDSX2-HVKMFDSX2 162727                      \n",
       "1509717_1_1_1-HVJYFDSX2-HVKMFDSX2 145074                      \n",
       "                                  Percentage of Reads with Valid Cell Barcodes\n",
       "1509722_1_1_1-HVJYFDSX2-HVKMFDSX2 0.915                                       \n",
       "1509721_1_1_1-HVJYFDSX2-HVKMFDSX2 0.931                                       \n",
       "1509720_1_1_1-HVJYFDSX2-HVKMFDSX2 0.912                                       \n",
       "1509719_1_1_1-HVJYFDSX2-HVKMFDSX2 0.918                                       \n",
       "1509718_1_1_1-HVJYFDSX2-HVKMFDSX2 0.938                                       \n",
       "1509717_1_1_1-HVJYFDSX2-HVKMFDSX2 0.915                                       \n",
       "                                  Percentage of Total Reads in Captured Cells among Total Reads\n",
       "1509722_1_1_1-HVJYFDSX2-HVKMFDSX2 0.944                                                        \n",
       "1509721_1_1_1-HVJYFDSX2-HVKMFDSX2 0.882                                                        \n",
       "1509720_1_1_1-HVJYFDSX2-HVKMFDSX2 0.937                                                        \n",
       "1509719_1_1_1-HVJYFDSX2-HVKMFDSX2 0.945                                                        \n",
       "1509718_1_1_1-HVJYFDSX2-HVKMFDSX2 0.858                                                        \n",
       "1509717_1_1_1-HVJYFDSX2-HVKMFDSX2 0.954                                                        \n",
       "                                  Percentage of Exon Reads among Total Reads\n",
       "1509722_1_1_1-HVJYFDSX2-HVKMFDSX2 0.521                                     \n",
       "1509721_1_1_1-HVJYFDSX2-HVKMFDSX2 0.304                                     \n",
       "1509720_1_1_1-HVJYFDSX2-HVKMFDSX2 0.452                                     \n",
       "1509719_1_1_1-HVJYFDSX2-HVKMFDSX2 0.514                                     \n",
       "1509718_1_1_1-HVJYFDSX2-HVKMFDSX2 0.377                                     \n",
       "1509717_1_1_1-HVJYFDSX2-HVKMFDSX2 0.519                                     \n",
       "                                  Percentage of Intron Reads among Total Reads\n",
       "1509722_1_1_1-HVJYFDSX2-HVKMFDSX2 0.068                                       \n",
       "1509721_1_1_1-HVJYFDSX2-HVKMFDSX2 0.05                                        \n",
       "1509720_1_1_1-HVJYFDSX2-HVKMFDSX2 0.066                                       \n",
       "1509719_1_1_1-HVJYFDSX2-HVKMFDSX2 0.065                                       \n",
       "1509718_1_1_1-HVJYFDSX2-HVKMFDSX2 0.054                                       \n",
       "1509717_1_1_1-HVJYFDSX2-HVKMFDSX2 0.059                                       \n",
       "                                  Percentage of Intergenic Reads among Total Reads\n",
       "1509722_1_1_1-HVJYFDSX2-HVKMFDSX2 0.044                                           \n",
       "1509721_1_1_1-HVJYFDSX2-HVKMFDSX2 0.025                                           \n",
       "1509720_1_1_1-HVJYFDSX2-HVKMFDSX2 0.039                                           \n",
       "1509719_1_1_1-HVJYFDSX2-HVKMFDSX2 0.04                                            \n",
       "1509718_1_1_1-HVJYFDSX2-HVKMFDSX2 0.027                                           \n",
       "1509717_1_1_1-HVJYFDSX2-HVKMFDSX2 0.038                                           \n",
       "                                  Number of Input Cells\n",
       "1509722_1_1_1-HVJYFDSX2-HVKMFDSX2 10000                \n",
       "1509721_1_1_1-HVJYFDSX2-HVKMFDSX2 10000                \n",
       "1509720_1_1_1-HVJYFDSX2-HVKMFDSX2 10000                \n",
       "1509719_1_1_1-HVJYFDSX2-HVKMFDSX2 10000                \n",
       "1509718_1_1_1-HVJYFDSX2-HVKMFDSX2 10000                \n",
       "1509717_1_1_1-HVJYFDSX2-HVKMFDSX2 10000                \n",
       "                                  Number of Captured Cells\n",
       "1509722_1_1_1-HVJYFDSX2-HVKMFDSX2 5714                    \n",
       "1509721_1_1_1-HVJYFDSX2-HVKMFDSX2 5745                    \n",
       "1509720_1_1_1-HVJYFDSX2-HVKMFDSX2 5423                    \n",
       "1509719_1_1_1-HVJYFDSX2-HVKMFDSX2 7064                    \n",
       "1509718_1_1_1-HVJYFDSX2-HVKMFDSX2 5549                    \n",
       "1509717_1_1_1-HVJYFDSX2-HVKMFDSX2 5018                    \n",
       "                                  Percentage of Exon Reads in Captured Cells among Total Reads\n",
       "1509722_1_1_1-HVJYFDSX2-HVKMFDSX2 0.45                                                        \n",
       "1509721_1_1_1-HVJYFDSX2-HVKMFDSX2 0.2496                                                      \n",
       "1509720_1_1_1-HVJYFDSX2-HVKMFDSX2 0.3863                                                      \n",
       "1509719_1_1_1-HVJYFDSX2-HVKMFDSX2 0.4459                                                      \n",
       "1509718_1_1_1-HVJYFDSX2-HVKMFDSX2 0.3034                                                      \n",
       "1509717_1_1_1-HVJYFDSX2-HVKMFDSX2 0.453                                                       \n",
       "                                  ⋯ tissue            tissue_detail         \n",
       "1509722_1_1_1-HVJYFDSX2-HVKMFDSX2 ⋯ peritoneal cavity M24_M483_2hr_LPS Stim \n",
       "1509721_1_1_1-HVJYFDSX2-HVKMFDSX2 ⋯ peritoneal cavity M23_M483_2hr_LPS Stim \n",
       "1509720_1_1_1-HVJYFDSX2-HVKMFDSX2 ⋯ peritoneal cavity M22_M483_2hr_LPS Stim \n",
       "1509719_1_1_1-HVJYFDSX2-HVKMFDSX2 ⋯ peritoneal cavity M21_M483_2hr_LPS Stim \n",
       "1509718_1_1_1-HVJYFDSX2-HVKMFDSX2 ⋯ peritoneal cavity M20_M483_24hr_LPS Stim\n",
       "1509717_1_1_1-HVJYFDSX2-HVKMFDSX2 ⋯ peritoneal cavity M19_M483_24hr_LPS Stim\n",
       "                                  Other Sample Details Cell Type        pid \n",
       "1509722_1_1_1-HVJYFDSX2-HVKMFDSX2 test                 peritoneal cells 5202\n",
       "1509721_1_1_1-HVJYFDSX2-HVKMFDSX2 test                 peritoneal cells 5202\n",
       "1509720_1_1_1-HVJYFDSX2-HVKMFDSX2 test                 peritoneal cells 5202\n",
       "1509719_1_1_1-HVJYFDSX2-HVKMFDSX2 test                 peritoneal cells 5202\n",
       "1509718_1_1_1-HVJYFDSX2-HVKMFDSX2 test                 peritoneal cells 5202\n",
       "1509717_1_1_1-HVJYFDSX2-HVKMFDSX2 test                 peritoneal cells 5202\n",
       "                                  pname                                                                \n",
       "1509722_1_1_1-HVJYFDSX2-HVKMFDSX2 scRNAseq in Peritoneal Cells treated with ncADCs in LPS-induced model\n",
       "1509721_1_1_1-HVJYFDSX2-HVKMFDSX2 scRNAseq in Peritoneal Cells treated with ncADCs in LPS-induced model\n",
       "1509720_1_1_1-HVJYFDSX2-HVKMFDSX2 scRNAseq in Peritoneal Cells treated with ncADCs in LPS-induced model\n",
       "1509719_1_1_1-HVJYFDSX2-HVKMFDSX2 scRNAseq in Peritoneal Cells treated with ncADCs in LPS-induced model\n",
       "1509718_1_1_1-HVJYFDSX2-HVKMFDSX2 scRNAseq in Peritoneal Cells treated with ncADCs in LPS-induced model\n",
       "1509717_1_1_1-HVJYFDSX2-HVKMFDSX2 scRNAseq in Peritoneal Cells treated with ncADCs in LPS-induced model\n",
       "                                  10X Library Prep # Library Prep Protocol Used\n",
       "1509722_1_1_1-HVJYFDSX2-HVKMFDSX2 496                10X 5prime NextGEM v2.0   \n",
       "1509721_1_1_1-HVJYFDSX2-HVKMFDSX2 496                10X 5prime NextGEM v2.0   \n",
       "1509720_1_1_1-HVJYFDSX2-HVKMFDSX2 496                10X 5prime NextGEM v2.0   \n",
       "1509719_1_1_1-HVJYFDSX2-HVKMFDSX2 496                10X 5prime NextGEM v2.0   \n",
       "1509718_1_1_1-HVJYFDSX2-HVKMFDSX2 496                10X 5prime NextGEM v2.0   \n",
       "1509717_1_1_1-HVJYFDSX2-HVKMFDSX2 496                10X 5prime NextGEM v2.0   \n",
       "                                  EID  \n",
       "1509722_1_1_1-HVJYFDSX2-HVKMFDSX2 16639\n",
       "1509721_1_1_1-HVJYFDSX2-HVKMFDSX2 16639\n",
       "1509720_1_1_1-HVJYFDSX2-HVKMFDSX2 16639\n",
       "1509719_1_1_1-HVJYFDSX2-HVKMFDSX2 16639\n",
       "1509718_1_1_1-HVJYFDSX2-HVKMFDSX2 16639\n",
       "1509717_1_1_1-HVJYFDSX2-HVKMFDSX2 16639\n",
       "                                  path to the results                                                          \n",
       "1509722_1_1_1-HVJYFDSX2-HVKMFDSX2 /10x-results/W401102/Project0005000/PID5202/1509722_1_1_1-HVJYFDSX2-HVKMFDSX2\n",
       "1509721_1_1_1-HVJYFDSX2-HVKMFDSX2 /10x-results/W401102/Project0005000/PID5202/1509721_1_1_1-HVJYFDSX2-HVKMFDSX2\n",
       "1509720_1_1_1-HVJYFDSX2-HVKMFDSX2 /10x-results/W401102/Project0005000/PID5202/1509720_1_1_1-HVJYFDSX2-HVKMFDSX2\n",
       "1509719_1_1_1-HVJYFDSX2-HVKMFDSX2 /10x-results/W401102/Project0005000/PID5202/1509719_1_1_1-HVJYFDSX2-HVKMFDSX2\n",
       "1509718_1_1_1-HVJYFDSX2-HVKMFDSX2 /10x-results/W401102/Project0005000/PID5202/1509718_1_1_1-HVJYFDSX2-HVKMFDSX2\n",
       "1509717_1_1_1-HVJYFDSX2-HVKMFDSX2 /10x-results/W401102/Project0005000/PID5202/1509717_1_1_1-HVJYFDSX2-HVKMFDSX2"
      ]
     },
     "metadata": {},
     "output_type": "display_data"
    }
   ],
   "source": [
    "head(meta_data)"
   ]
  },
  {
   "cell_type": "code",
   "execution_count": 4,
   "id": "bd2c33bb-d2ae-4726-a2b3-72ecb01784a3",
   "metadata": {
    "execution": {
     "iopub.execute_input": "2022-07-20T23:16:25.907749Z",
     "iopub.status.busy": "2022-07-20T23:16:25.906535Z",
     "iopub.status.idle": "2022-07-20T23:16:25.935915Z",
     "shell.execute_reply": "2022-07-20T23:16:25.934740Z"
    }
   },
   "outputs": [],
   "source": [
    "### prepare for the columns\n",
    "sample_id <- rownames(meta_data)\n",
    "molecule_h5 <- paste0(\"/mnt/MP\", meta_data$`path to the results`, \"/outs/molecule_info.h5\")\n",
    "\n",
    "result_table <- data.frame(sample_id = sample_id,\n",
    "                           molecule_h5 = molecule_h5,\n",
    "                           stringsAsFactors = FALSE, check.names = FALSE)\n",
    "  \n",
    "### write out as a csv file\n",
    "write.csv(result_table,\n",
    "          file = paste0(outputDir, \"PID5202_prep_aggr.csv\"),\n",
    "          row.names = FALSE)"
   ]
  },
  {
   "cell_type": "code",
   "execution_count": null,
   "id": "d5351182-cc75-4ab2-9a84-44c58ff45602",
   "metadata": {},
   "outputs": [],
   "source": []
  }
 ],
 "metadata": {
  "kernelspec": {
   "display_name": "R 4.1.x (10/06/2021 packages)",
   "language": "R",
   "name": "ir_4.1.x"
  },
  "language_info": {
   "codemirror_mode": "r",
   "file_extension": ".r",
   "mimetype": "text/x-r-source",
   "name": "R",
   "pygments_lexer": "r",
   "version": "4.1.1"
  }
 },
 "nbformat": 4,
 "nbformat_minor": 5
}
